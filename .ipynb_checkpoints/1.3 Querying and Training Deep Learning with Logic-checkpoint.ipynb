{
 "cells": [
  {
   "cell_type": "markdown",
   "metadata": {},
   "source": [
    "Aim:\n",
    "* Query network with properties\n",
    "* Enforce properties on network during training"
   ]
  },
  {
   "cell_type": "markdown",
   "metadata": {},
   "source": [
    "# 1 Query\n",
    "* __Declaratively__, to query the network for inputs we need a precise way to __impose constraints__ on these inputs, hence some type of __logic__.\n",
    "* __Operationally__, we also need a way to __perform queries__ on the network with these constraints.\n",
    "\n",
    "## 1.1 Logic\n",
    "We introduce a standard logic with \n",
    "* no quantifiers: \n",
    "    - $\\forall$\n",
    "    - $\\exists$\n",
    "    - $\\exists$!\n",
    "* Comparision operation:\n",
    "    - $\\lnot$\n",
    "    - $\\neq$\n",
    "    - $\\land$, conjunction, (&)\n",
    "    - $\\lor$, disjunction,(||)\n",
    "    - $\\leq$\n",
    "    - $\\geq$\n",
    "    - $\\lt$\n",
    "    - $\\gt$\n",
    "    - $\\Rightarrow$\n",
    "    - Note the comparision operation on vectors are point wise\n",
    "* Functions $f:\\mathbb{R}^m \\to \\mathbb{R}^n$\n",
    "\n",
    "__Example property to query for AE__\n",
    "![Query AE](figures/syntaxsugar.PNG)\n",
    "Expression for property $\\Phi$:\n",
    "$$\\begin{align}\n",
    "\\Phi=&\\land^k_{j=1,j\\neq 9}NN(i)[j]<NN(i)[9]\\\\\n",
    "&\\land \\parallel i-\\text{deer}\\parallel_{\\infty} \\lt 25\\\\\n",
    "&\\land \\parallel i-\\text{deer}\\parallel_{\\infty} \\gt 5\n",
    "\\end{align}$$\n",
    "NN(i)[j] means the output of the NN at class j when input is i.\n",
    "\n",
    "## 1.2 Solve\n",
    "The aim is to fing value of input i that makes the property hold.\n",
    "* By standard constraint solver, only feasible for small network\n",
    "    - Z3 SMT\n",
    "    - AST\n",
    "* Solve as optimisation by introduce translation of logical formulas into differentiable loss function $T(\\phi)$ to be solved with optimization. The translation T must fulfill the follow properties:\n",
    "    * __Theorem__: $\\forall x$, if $T(\\phi)(x)=0$, then x satisfies $\\phi$. Thus we need to find x that make T = 0,this x will solve our original property.\n",
    "    \n",
    "   \n",
    "### 1.2.1 Translations\n",
    "First define distance $d(a,b)\\geq 0$ equality occurs iff $a=b$.\n",
    "\n",
    "$I_{t_1\\gt t_2}$ is an __indicator function__ which is 1 when $t_1\\gt t_2$ and 0 otherwise. \n",
    "\n",
    "| Logic Term | Translation |\n",
    "| :------ | :--------------- |\n",
    "| $t_1=t_2$ | $d(t_1,t_2)$ |\n",
    "| $t_1\\leq t_2$ | $I_{t_1\\gt t_2}d(t_1,t_2)$ |\n",
    "| $t_1\\lt t_2$ | $T(t_1+\\epsilon \\leq t_2)$ |\n",
    "| $t_1\\neq t_2$ | $T( (t_1\\leq t_2) \\lor (t_2 \\leq t_1))$ |\n",
    "| $\\psi \\lor \\varphi$ | $T(\\psi) \\cdot T(\\varphi)$ |\n",
    "| $\\psi \\land \\varphi$ | $T(\\psi) + T(\\varphi)$ |\n",
    "\n",
    "If we use $d(a,b)=|a-b|$:\n",
    "\n",
    "    $I_{t_1\\gt t_2}d(t_1,t_2) = max(0,t_1-t_2)$\n",
    "\n",
    "| Logic Term | Translation |\n",
    "| :------ | :--------------- |\n",
    "| $t_1=t_2$ | $|t_1-t_2|$ |\n",
    "| $t_1\\leq t_2$ | $max(0, t_1-t_2)$ |\n",
    "| $t_1\\lt t_2$ | $T(t_1+\\epsilon \\leq t_2)$ |\n",
    "| $t_1\\neq t_2$ | $T( (t_1\\leq t_2) \\lor (t_2 \\leq t_1))$ |\n",
    "| $\\psi \\lor \\varphi$ | $T(\\psi) \\cdot T(\\varphi)$ |\n",
    "| $\\psi \\land \\varphi$ | $T(\\psi) + T(\\varphi)$ |\n",
    "\n",
    "### 1.2.2 Loss minimising\n",
    "\n",
    "We want to minimise the translation loss T to zero.\n",
    "* If T=0 -> there must be points satisfying the property\n",
    "* If $T\\neq0$, there may still be points satisfying the property\n",
    "\n",
    "Recall theorem $\\forall x$, __if__ $T(\\phi)(x)=0$, then x satisfies $\\phi$.\n",
    "\n",
    "The if can become iff under the following condition:\n",
    "![translationtheorem](figures/translationtheorem.PNG)\n"
   ]
  },
  {
   "cell_type": "markdown",
   "metadata": {},
   "source": [
    "# 2. Train the network with logic\n",
    "\n",
    "The idea is to use the sam translated loss of a property $T(\\phi)$ and incorporate it into training."
   ]
  }
 ],
 "metadata": {
  "kernelspec": {
   "display_name": "Python 3",
   "language": "python",
   "name": "python3"
  },
  "language_info": {
   "codemirror_mode": {
    "name": "ipython",
    "version": 3
   },
   "file_extension": ".py",
   "mimetype": "text/x-python",
   "name": "python",
   "nbconvert_exporter": "python",
   "pygments_lexer": "ipython3",
   "version": "3.6.5"
  }
 },
 "nbformat": 4,
 "nbformat_minor": 2
}
