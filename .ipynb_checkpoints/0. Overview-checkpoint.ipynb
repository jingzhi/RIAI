{
 "cells": [
  {
   "cell_type": "markdown",
   "metadata": {},
   "source": [
    "# Part 1: Robust and Explainable Deep Learning\n",
    "\n",
    "## 1.  Adversarial examples\n",
    "    * Find AE (Attack)\n",
    "    * Defend against AE\n",
    "\n",
    "## 2. To ensure and prove robustness\n",
    "    * Do so automatically\n",
    "    \n",
    "## 3. Combine symbolic logic and neural networks\n",
    "    * For querying  \n",
    "    * For training\n",
    "    \n",
    "## 4. Neuron interpretation.\n",
    "\n",
    "# Part II: Program Synthesis and Learning: a new frontier in AI where the one\n",
    "\n",
    "## Interpretable program from user-provided examples. \n",
    "## Theory (CEGIS, version spaces)\n",
    "## Neural synthesis (with applications to data science) and ## Learn to solve\n",
    "\n",
    "# Part III: Probabilistic Programming: \n",
    "## Goal: democratize the construction of probabilistic models.\n",
    "## Exact inference \n",
    "## Applications."
   ]
  }
 ],
 "metadata": {
  "kernelspec": {
   "display_name": "Python 3",
   "language": "python",
   "name": "python3"
  },
  "language_info": {
   "codemirror_mode": {
    "name": "ipython",
    "version": 3
   },
   "file_extension": ".py",
   "mimetype": "text/x-python",
   "name": "python",
   "nbconvert_exporter": "python",
   "pygments_lexer": "ipython3",
   "version": "3.6.5"
  }
 },
 "nbformat": 4,
 "nbformat_minor": 2
}
