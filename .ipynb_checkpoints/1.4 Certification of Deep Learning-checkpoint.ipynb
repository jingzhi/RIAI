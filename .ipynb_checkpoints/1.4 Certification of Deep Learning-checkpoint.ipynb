{
 "cells": [
  {
   "cell_type": "markdown",
   "metadata": {},
   "source": [
    "# Certification of Deep Learning\n",
    "We want  __automated__ and __scalable__ analysis to cerfity relistuve NNs. This enables us to\n",
    "* Prove robustness of NN\n",
    "* Certify NN based large [cyber-physical system](https://en.wikipedia.org/wiki/Cyber-physical_system).\n"
   ]
  },
  {
   "cell_type": "markdown",
   "metadata": {},
   "source": [
    "# Zonotope Abstract Domain\n",
    "\n",
    "__polytopes__ : a geometric object with \"flat\" sides in n D. In 3d we have polyhedroz, in 2d we have polygon. Flat sides mean that the sides of a (k+1)-polytope consist of k-polytopes that may have (k-1)-polytopes in common. Eg, The sides of 3-polytope (polyhedron) consist of 2-polytopes (polygons), sharing 1-polytope (line segment).\n",
    "\n",
    "Considering d-polyropes $P_1,P_2,...P_n \\in \\mathbb{R}^d$\n",
    "\n"
   ]
  }
 ],
 "metadata": {
  "kernelspec": {
   "display_name": "Python 3",
   "language": "python",
   "name": "python3"
  },
  "language_info": {
   "codemirror_mode": {
    "name": "ipython",
    "version": 3
   },
   "file_extension": ".py",
   "mimetype": "text/x-python",
   "name": "python",
   "nbconvert_exporter": "python",
   "pygments_lexer": "ipython3",
   "version": "3.6.5"
  }
 },
 "nbformat": 4,
 "nbformat_minor": 2
}
