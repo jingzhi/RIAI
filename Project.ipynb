{
 "cells": [
  {
   "cell_type": "markdown",
   "metadata": {},
   "source": [
    "Tradoff of effciency and performances in analysis\n",
    "1. Box domain: fast, impresice\n",
    "2. Linear solve: precise, slow\n",
    "\n",
    "Design heuristic to prove property\n",
    "-> combine the two\n",
    "+1,0,-1\n",
    "\n",
    "Box-> ELINA\n",
    "Linear solver->given"
   ]
  }
 ],
 "metadata": {
  "kernelspec": {
   "display_name": "Python 3",
   "language": "python",
   "name": "python3"
  },
  "language_info": {
   "codemirror_mode": {
    "name": "ipython",
    "version": 3
   },
   "file_extension": ".py",
   "mimetype": "text/x-python",
   "name": "python",
   "nbconvert_exporter": "python",
   "pygments_lexer": "ipython3",
   "version": "3.6.5"
  }
 },
 "nbformat": 4,
 "nbformat_minor": 2
}
